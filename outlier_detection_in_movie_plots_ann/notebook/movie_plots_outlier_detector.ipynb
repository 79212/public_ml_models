{
 "cells": [
  {
   "cell_type": "code",
   "execution_count": 215,
   "metadata": {},
   "outputs": [
    {
     "data": {
      "text/html": [
       "<div>\n",
       "<style scoped>\n",
       "    .dataframe tbody tr th:only-of-type {\n",
       "        vertical-align: middle;\n",
       "    }\n",
       "\n",
       "    .dataframe tbody tr th {\n",
       "        vertical-align: top;\n",
       "    }\n",
       "\n",
       "    .dataframe thead th {\n",
       "        text-align: right;\n",
       "    }\n",
       "</style>\n",
       "<table border=\"1\" class=\"dataframe\">\n",
       "  <thead>\n",
       "    <tr style=\"text-align: right;\">\n",
       "      <th></th>\n",
       "      <th>Release Year</th>\n",
       "      <th>Title</th>\n",
       "      <th>Origin/Ethnicity</th>\n",
       "      <th>Director</th>\n",
       "      <th>Cast</th>\n",
       "      <th>Genre</th>\n",
       "      <th>Wiki Page</th>\n",
       "      <th>Plot</th>\n",
       "    </tr>\n",
       "  </thead>\n",
       "  <tbody>\n",
       "    <tr>\n",
       "      <th>0</th>\n",
       "      <td>1901</td>\n",
       "      <td>Kansas Saloon Smashers</td>\n",
       "      <td>American</td>\n",
       "      <td>Unknown</td>\n",
       "      <td>NaN</td>\n",
       "      <td>unknown</td>\n",
       "      <td>https://en.wikipedia.org/wiki/Kansas_Saloon_Sm...</td>\n",
       "      <td>A bartender is working at a saloon, serving dr...</td>\n",
       "    </tr>\n",
       "    <tr>\n",
       "      <th>1</th>\n",
       "      <td>1901</td>\n",
       "      <td>Love by the Light of the Moon</td>\n",
       "      <td>American</td>\n",
       "      <td>Unknown</td>\n",
       "      <td>NaN</td>\n",
       "      <td>unknown</td>\n",
       "      <td>https://en.wikipedia.org/wiki/Love_by_the_Ligh...</td>\n",
       "      <td>The moon, painted with a smiling face hangs ov...</td>\n",
       "    </tr>\n",
       "    <tr>\n",
       "      <th>2</th>\n",
       "      <td>1901</td>\n",
       "      <td>The Martyred Presidents</td>\n",
       "      <td>American</td>\n",
       "      <td>Unknown</td>\n",
       "      <td>NaN</td>\n",
       "      <td>unknown</td>\n",
       "      <td>https://en.wikipedia.org/wiki/The_Martyred_Pre...</td>\n",
       "      <td>The film, just over a minute long, is composed...</td>\n",
       "    </tr>\n",
       "    <tr>\n",
       "      <th>3</th>\n",
       "      <td>1901</td>\n",
       "      <td>Terrible Teddy, the Grizzly King</td>\n",
       "      <td>American</td>\n",
       "      <td>Unknown</td>\n",
       "      <td>NaN</td>\n",
       "      <td>unknown</td>\n",
       "      <td>https://en.wikipedia.org/wiki/Terrible_Teddy,_...</td>\n",
       "      <td>Lasting just 61 seconds and consisting of two ...</td>\n",
       "    </tr>\n",
       "    <tr>\n",
       "      <th>4</th>\n",
       "      <td>1902</td>\n",
       "      <td>Jack and the Beanstalk</td>\n",
       "      <td>American</td>\n",
       "      <td>George S. Fleming, Edwin S. Porter</td>\n",
       "      <td>NaN</td>\n",
       "      <td>unknown</td>\n",
       "      <td>https://en.wikipedia.org/wiki/Jack_and_the_Bea...</td>\n",
       "      <td>The earliest known adaptation of the classic f...</td>\n",
       "    </tr>\n",
       "  </tbody>\n",
       "</table>\n",
       "</div>"
      ],
      "text/plain": [
       "   Release Year                             Title Origin/Ethnicity  \\\n",
       "0          1901            Kansas Saloon Smashers         American   \n",
       "1          1901     Love by the Light of the Moon         American   \n",
       "2          1901           The Martyred Presidents         American   \n",
       "3          1901  Terrible Teddy, the Grizzly King         American   \n",
       "4          1902            Jack and the Beanstalk         American   \n",
       "\n",
       "                             Director Cast    Genre  \\\n",
       "0                             Unknown  NaN  unknown   \n",
       "1                             Unknown  NaN  unknown   \n",
       "2                             Unknown  NaN  unknown   \n",
       "3                             Unknown  NaN  unknown   \n",
       "4  George S. Fleming, Edwin S. Porter  NaN  unknown   \n",
       "\n",
       "                                           Wiki Page  \\\n",
       "0  https://en.wikipedia.org/wiki/Kansas_Saloon_Sm...   \n",
       "1  https://en.wikipedia.org/wiki/Love_by_the_Ligh...   \n",
       "2  https://en.wikipedia.org/wiki/The_Martyred_Pre...   \n",
       "3  https://en.wikipedia.org/wiki/Terrible_Teddy,_...   \n",
       "4  https://en.wikipedia.org/wiki/Jack_and_the_Bea...   \n",
       "\n",
       "                                                Plot  \n",
       "0  A bartender is working at a saloon, serving dr...  \n",
       "1  The moon, painted with a smiling face hangs ov...  \n",
       "2  The film, just over a minute long, is composed...  \n",
       "3  Lasting just 61 seconds and consisting of two ...  \n",
       "4  The earliest known adaptation of the classic f...  "
      ]
     },
     "execution_count": 215,
     "metadata": {},
     "output_type": "execute_result"
    }
   ],
   "source": [
    "import pandas as pd\n",
    "\n",
    "wikipedia_movie_df = pd.read_csv('../data/wiki_movie_plots_deduped.csv', index_col=False, header=0)\n",
    "wikipedia_movie_df.head()"
   ]
  },
  {
   "cell_type": "code",
   "execution_count": 216,
   "metadata": {
    "scrolled": true
   },
   "outputs": [
    {
     "data": {
      "text/html": [
       "<div>\n",
       "<style scoped>\n",
       "    .dataframe tbody tr th:only-of-type {\n",
       "        vertical-align: middle;\n",
       "    }\n",
       "\n",
       "    .dataframe tbody tr th {\n",
       "        vertical-align: top;\n",
       "    }\n",
       "\n",
       "    .dataframe thead th {\n",
       "        text-align: right;\n",
       "    }\n",
       "</style>\n",
       "<table border=\"1\" class=\"dataframe\">\n",
       "  <thead>\n",
       "    <tr style=\"text-align: right;\">\n",
       "      <th></th>\n",
       "      <th>Title</th>\n",
       "      <th>Plot</th>\n",
       "    </tr>\n",
       "  </thead>\n",
       "  <tbody>\n",
       "    <tr>\n",
       "      <th>0</th>\n",
       "      <td>Kansas Saloon Smashers</td>\n",
       "      <td>A bartender is working at a saloon, serving dr...</td>\n",
       "    </tr>\n",
       "    <tr>\n",
       "      <th>1</th>\n",
       "      <td>Love by the Light of the Moon</td>\n",
       "      <td>The moon, painted with a smiling face hangs ov...</td>\n",
       "    </tr>\n",
       "    <tr>\n",
       "      <th>2</th>\n",
       "      <td>The Martyred Presidents</td>\n",
       "      <td>The film, just over a minute long, is composed...</td>\n",
       "    </tr>\n",
       "    <tr>\n",
       "      <th>3</th>\n",
       "      <td>Terrible Teddy, the Grizzly King</td>\n",
       "      <td>Lasting just 61 seconds and consisting of two ...</td>\n",
       "    </tr>\n",
       "    <tr>\n",
       "      <th>4</th>\n",
       "      <td>Jack and the Beanstalk</td>\n",
       "      <td>The earliest known adaptation of the classic f...</td>\n",
       "    </tr>\n",
       "  </tbody>\n",
       "</table>\n",
       "</div>"
      ],
      "text/plain": [
       "                              Title  \\\n",
       "0            Kansas Saloon Smashers   \n",
       "1     Love by the Light of the Moon   \n",
       "2           The Martyred Presidents   \n",
       "3  Terrible Teddy, the Grizzly King   \n",
       "4            Jack and the Beanstalk   \n",
       "\n",
       "                                                Plot  \n",
       "0  A bartender is working at a saloon, serving dr...  \n",
       "1  The moon, painted with a smiling face hangs ov...  \n",
       "2  The film, just over a minute long, is composed...  \n",
       "3  Lasting just 61 seconds and consisting of two ...  \n",
       "4  The earliest known adaptation of the classic f...  "
      ]
     },
     "execution_count": 216,
     "metadata": {},
     "output_type": "execute_result"
    }
   ],
   "source": [
    "title_plot_df = wikipedia_movie_df[['Title','Plot']]\n",
    "title_plot_df.head()"
   ]
  },
  {
   "cell_type": "code",
   "execution_count": 217,
   "metadata": {},
   "outputs": [],
   "source": [
    "from gensim import utils\n",
    "import gensim.parsing.preprocessing as gsp\n",
    "\n",
    "filters = [\n",
    "           gsp.strip_tags, \n",
    "           gsp.strip_punctuation,\n",
    "           gsp.strip_multiple_whitespaces,\n",
    "           gsp.strip_numeric,\n",
    "           gsp.remove_stopwords, \n",
    "           gsp.strip_short, \n",
    "           gsp.stem_text\n",
    "          ]\n",
    "\n",
    "def clean_text(s):\n",
    "    s = s.lower()\n",
    "    s = utils.to_unicode(s)\n",
    "    for f in filters:\n",
    "        s = f(s)\n",
    "    return s\n"
   ]
  },
  {
   "cell_type": "code",
   "execution_count": 218,
   "metadata": {},
   "outputs": [
    {
     "data": {
      "text/plain": [
       "\"A bartender is working at a saloon, serving drinks to customers. After he fills a stereotypically Irish man's bucket with beer, Carrie Nation and her followers burst inside. They assault the Irish man, pulling his hat over his eyes and then dumping the beer over his head. The group then begin wrecking the bar, smashing the fixtures, mirrors, and breaking the cash register. The bartender then sprays seltzer water in Nation's face before a group of policemen appear and order everybody to leave.[1]\""
      ]
     },
     "execution_count": 218,
     "metadata": {},
     "output_type": "execute_result"
    }
   ],
   "source": [
    "title_plot_df.iloc[0,1]"
   ]
  },
  {
   "cell_type": "code",
   "execution_count": 219,
   "metadata": {},
   "outputs": [
    {
     "data": {
      "text/plain": [
       "'bartend work saloon serv drink custom fill stereotyp irish man bucket beer carri nation follow burst insid assault irish man pull hat ey dump beer head group begin wreck bar smash fixtur mirror break cash regist bartend sprai seltzer water nation face group policemen appear order everybodi leav'"
      ]
     },
     "execution_count": 219,
     "metadata": {},
     "output_type": "execute_result"
    }
   ],
   "source": [
    "clean_text(title_plot_df.iloc[0,1])"
   ]
  },
  {
   "cell_type": "code",
   "execution_count": 220,
   "metadata": {},
   "outputs": [
    {
     "name": "stderr",
     "output_type": "stream",
     "text": [
      "/usr/local/lib/python3.7/site-packages/ipykernel_launcher.py:1: SettingWithCopyWarning: \n",
      "A value is trying to be set on a copy of a slice from a DataFrame.\n",
      "Try using .loc[row_indexer,col_indexer] = value instead\n",
      "\n",
      "See the caveats in the documentation: http://pandas.pydata.org/pandas-docs/stable/indexing.html#indexing-view-versus-copy\n",
      "  \"\"\"Entry point for launching an IPython kernel.\n"
     ]
    }
   ],
   "source": [
    "title_plot_df['Plot'] = title_plot_df['Plot'].map(lambda x: clean_text(x))"
   ]
  },
  {
   "cell_type": "code",
   "execution_count": 221,
   "metadata": {},
   "outputs": [],
   "source": [
    "from collections import Counter\n",
    "\n",
    "aggregate_counter = Counter()\n",
    "for row_index,row in title_plot_df.iterrows():\n",
    "    c = Counter(row['Plot'].split())\n",
    "    aggregate_counter += c\n",
    "\n",
    "common_words = [word[0] for word in aggregate_counter.most_common(50)]\n",
    "common_words_counts = [word[1] for word in aggregate_counter.most_common(50)]"
   ]
  },
  {
   "cell_type": "code",
   "execution_count": 222,
   "metadata": {},
   "outputs": [],
   "source": [
    "import matplotlib.pyplot as plt\n",
    "import seaborn as sns\n",
    "\n",
    "def barplot(words, words_counts, title):\n",
    "    fig = plt.figure(figsize=(18,6))\n",
    "    bar_plot = sns.barplot(x=words, y=words_counts)\n",
    "    for item in bar_plot.get_xticklabels():\n",
    "        item.set_rotation(90)\n",
    "    plt.title(title)\n",
    "    plt.show()"
   ]
  },
  {
   "cell_type": "code",
   "execution_count": 223,
   "metadata": {},
   "outputs": [
    {
     "data": {
      "image/png": "[encoded data removed]",
      "text/plain": [
       "<Figure size 1296x432 with 1 Axes>"
      ]
     },
     "metadata": {
      "needs_background": "light"
     },
     "output_type": "display_data"
    }
   ],
   "source": [
    "barplot(words=common_words, words_counts=common_words_counts, title='Most Common Words used in movie plots')"
   ]
  },
  {
   "cell_type": "code",
   "execution_count": 224,
   "metadata": {},
   "outputs": [],
   "source": [
    "from itertools import islice\n",
    "\n",
    "def key_word_counter(tupple):\n",
    "    return tupple[1]\n",
    "\n",
    "all_word_counts = sorted(aggregate_counter.items(), key=key_word_counter)\n",
    "uncommon_words = [word[0] for word in islice(all_word_counts, 50)]\n",
    "uncommon_word_counts = [word[1] for word in islice(all_word_counts, 50)]    "
   ]
  },
  {
   "cell_type": "code",
   "execution_count": 225,
   "metadata": {},
   "outputs": [
    {
     "data": {
      "image/png": "[encoded data removed]",
      "text/plain": [
       "<Figure size 1296x432 with 1 Axes>"
      ]
     },
     "metadata": {
      "needs_background": "light"
     },
     "output_type": "display_data"
    }
   ],
   "source": [
    "barplot(words=uncommon_words, words_counts=uncommon_word_counts, title='Most Uncommon Words used in movie plots')"
   ]
  },
  {
   "cell_type": "code",
   "execution_count": 226,
   "metadata": {},
   "outputs": [],
   "source": [
    "from gensim.models.doc2vec import TaggedDocument, Doc2Vec\n",
    "from gensim.parsing.preprocessing import preprocess_string\n",
    "from sklearn.base import BaseEstimator\n",
    "from sklearn import utils as skl_utils\n",
    "from tqdm import tqdm\n",
    "\n",
    "import multiprocessing\n",
    "import numpy as np\n",
    "\n",
    "class Doc2VecTransformer(BaseEstimator):\n",
    "\n",
    "    def __init__(self, vector_size=100, learning_rate=0.02, epochs=20):\n",
    "        self.learning_rate = learning_rate\n",
    "        self.epochs = epochs\n",
    "        self._model = None\n",
    "        self.vector_size = vector_size\n",
    "        self.workers = multiprocessing.cpu_count() - 1\n",
    "\n",
    "    def fit(self, df_x, df_y=None):\n",
    "        tagged_x = [TaggedDocument(str(row['Plot']).split(), [index]) for index, row in df_x.iterrows()]\n",
    "        model = Doc2Vec(documents=tagged_x, vector_size=self.vector_size, workers=self.workers)\n",
    "\n",
    "        for epoch in range(self.epochs):\n",
    "            model.train(skl_utils.shuffle([x for x in tqdm(tagged_x)]), total_examples=len(tagged_x), epochs=1)\n",
    "            model.alpha -= self.learning_rate\n",
    "            model.min_alpha = model.alpha\n",
    "\n",
    "        self._model = model\n",
    "        return self\n",
    "\n",
    "    def transform(self, df_x):\n",
    "        return np.asmatrix(np.array([self._model.infer_vector(str(row['Plot']).split())\n",
    "                                     for index, row in df_x.iterrows()]))\n",
    "    \n"
   ]
  },
  {
   "cell_type": "code",
   "execution_count": 227,
   "metadata": {},
   "outputs": [
    {
     "name": "stderr",
     "output_type": "stream",
     "text": [
      "\n",
      "  0%|          | 0/34886 [00:00<?, ?it/s]\u001b[A\n",
      "100%|██████████| 34886/34886 [00:00<00:00, 2182159.00it/s]\u001b[A\n",
      "  0%|          | 0/34886 [00:00<?, ?it/s]\u001b[A\n",
      "100%|██████████| 34886/34886 [00:00<00:00, 2191604.72it/s]\u001b[A\n",
      "  0%|          | 0/34886 [00:00<?, ?it/s]\u001b[A\n",
      "100%|██████████| 34886/34886 [00:00<00:00, 2187378.38it/s]\u001b[A\n",
      "  0%|          | 0/34886 [00:00<?, ?it/s]\u001b[A\n",
      "100%|██████████| 34886/34886 [00:00<00:00, 2238750.43it/s]\u001b[A\n",
      "  0%|          | 0/34886 [00:00<?, ?it/s]\u001b[A\n",
      "100%|██████████| 34886/34886 [00:00<00:00, 2179980.77it/s]\u001b[A\n",
      "  0%|          | 0/34886 [00:00<?, ?it/s]\u001b[A\n",
      "100%|██████████| 34886/34886 [00:00<00:00, 2110826.45it/s]\u001b[A\n",
      "  0%|          | 0/34886 [00:00<?, ?it/s]\u001b[A\n",
      "100%|██████████| 34886/34886 [00:00<00:00, 2089604.84it/s]\u001b[A\n",
      "  0%|          | 0/34886 [00:00<?, ?it/s]\u001b[A\n",
      "100%|██████████| 34886/34886 [00:00<00:00, 2101308.12it/s]\u001b[A\n",
      "  0%|          | 0/34886 [00:00<?, ?it/s]\u001b[A\n",
      "100%|██████████| 34886/34886 [00:00<00:00, 2160794.03it/s]\u001b[A\n",
      "  0%|          | 0/34886 [00:00<?, ?it/s]\u001b[A\n",
      "100%|██████████| 34886/34886 [00:00<00:00, 1934894.01it/s]\u001b[A\n",
      "  0%|          | 0/34886 [00:00<?, ?it/s]\u001b[A\n",
      "100%|██████████| 34886/34886 [00:00<00:00, 2102062.80it/s]\u001b[A\n",
      "  0%|          | 0/34886 [00:00<?, ?it/s]\u001b[A\n",
      "100%|██████████| 34886/34886 [00:00<00:00, 2192984.27it/s]\u001b[A\n",
      "  0%|          | 0/34886 [00:00<?, ?it/s]\u001b[A\n",
      "100%|██████████| 34886/34886 [00:00<00:00, 2159709.66it/s]\u001b[A\n",
      "  0%|          | 0/34886 [00:00<?, ?it/s]\u001b[A\n",
      "100%|██████████| 34886/34886 [00:00<00:00, 2047270.11it/s]\u001b[A\n",
      "  0%|          | 0/34886 [00:00<?, ?it/s]\u001b[A\n",
      "100%|██████████| 34886/34886 [00:00<00:00, 2174667.30it/s]\u001b[A\n",
      "  0%|          | 0/34886 [00:00<?, ?it/s]\u001b[A\n",
      "100%|██████████| 34886/34886 [00:00<00:00, 2073848.99it/s]\u001b[A\n",
      "  0%|          | 0/34886 [00:00<?, ?it/s]\u001b[A\n",
      "100%|██████████| 34886/34886 [00:00<00:00, 2159996.60it/s]\u001b[A\n",
      "  0%|          | 0/34886 [00:00<?, ?it/s]\u001b[A\n",
      "100%|██████████| 34886/34886 [00:00<00:00, 2133291.87it/s]\u001b[A\n",
      "  0%|          | 0/34886 [00:00<?, ?it/s]\u001b[A\n",
      "100%|██████████| 34886/34886 [00:00<00:00, 2079626.06it/s]\u001b[A\n",
      "  0%|          | 0/34886 [00:00<?, ?it/s]\u001b[A\n",
      "100%|██████████| 34886/34886 [00:00<00:00, 2180500.55it/s]\u001b[A"
     ]
    }
   ],
   "source": [
    "doc2vec_tr = Doc2VecTransformer(vector_size=300)\n",
    "doc2vec_tr.fit(title_plot_df)\n",
    "doc2vec_vectors = doc2vec_tr.transform(title_plot_df)"
   ]
  },
  {
   "cell_type": "code",
   "execution_count": 228,
   "metadata": {},
   "outputs": [
    {
     "name": "stdout",
     "output_type": "stream",
     "text": [
      "[[ 0.00082016  0.00154609  0.0007398  ... -0.00023392 -0.00088273\n",
      "  -0.00085528]\n",
      " [ 0.00163545  0.0012343  -0.00080885 ... -0.00011191 -0.00107792\n",
      "  -0.00150949]\n",
      " [-0.00032477  0.00038573 -0.00131092 ... -0.0003082   0.00011741\n",
      "  -0.0011586 ]\n",
      " ...\n",
      " [ 0.00106592  0.0001809  -0.00078875 ...  0.00052458 -0.0014295\n",
      "   0.00086061]\n",
      " [ 0.00123249  0.00015787 -0.00109228 ...  0.00148684 -0.00164618\n",
      "  -0.0011747 ]\n",
      " [ 0.00030048 -0.00135028  0.00082967 ... -0.00112858  0.00038137\n",
      "  -0.00027019]]\n"
     ]
    }
   ],
   "source": [
    "print(doc2vec_vectors)"
   ]
  },
  {
   "cell_type": "code",
   "execution_count": 229,
   "metadata": {},
   "outputs": [],
   "source": [
    "from sklearn.neural_network import MLPRegressor\n",
    "\n",
    "auto_encoder = MLPRegressor(hidden_layer_sizes=(\n",
    "                                                 600,\n",
    "                                                 150, \n",
    "                                                 600,\n",
    "                                               ))\n",
    "auto_encoder.fit(doc2vec_vectors, doc2vec_vectors)\n",
    "predicted_vectors = auto_encoder.predict(doc2vec_vectors)"
   ]
  },
  {
   "cell_type": "code",
   "execution_count": 230,
   "metadata": {},
   "outputs": [
    {
     "name": "stdout",
     "output_type": "stream",
     "text": [
      "[[-1.91952655e-03 -1.35822970e-03 -1.27704080e-04 ...  5.04884501e-03\n",
      "   2.09686216e-03 -5.44720808e-04]\n",
      " [-2.36416137e-03 -1.20087771e-03  9.62993677e-05 ...  5.01472928e-03\n",
      "   2.20142100e-03 -1.07030624e-03]\n",
      " [-1.61101228e-03 -1.08314683e-03 -2.74242583e-04 ...  5.18341935e-03\n",
      "   2.11275278e-03 -8.81956128e-04]\n",
      " ...\n",
      " [-1.69610173e-03 -1.28962499e-03 -1.46200680e-04 ...  5.14227360e-03\n",
      "   1.94301473e-03 -1.48730834e-03]\n",
      " [-2.30622659e-03 -1.60405504e-03 -2.28965564e-04 ...  5.37888865e-03\n",
      "   1.90346170e-03 -8.61998193e-04]\n",
      " [-1.84410411e-03 -1.56177818e-03 -1.37200513e-05 ...  4.87498520e-03\n",
      "   2.21671846e-03 -8.60800319e-04]]\n"
     ]
    }
   ],
   "source": [
    "print(predicted_vectors)"
   ]
  },
  {
   "cell_type": "code",
   "execution_count": 231,
   "metadata": {},
   "outputs": [
    {
     "data": {
      "text/plain": [
       "0.9510834662401904"
      ]
     },
     "execution_count": 231,
     "metadata": {},
     "output_type": "execute_result"
    }
   ],
   "source": [
    "auto_encoder.score(predicted_vectors, doc2vec_vectors)"
   ]
  },
  {
   "cell_type": "code",
   "execution_count": 232,
   "metadata": {},
   "outputs": [],
   "source": [
    "from scipy.spatial.distance import cosine\n",
    "\n",
    "def key_consine_similarity(tupple):\n",
    "    return tupple[1]\n",
    "\n",
    "def get_computed_similarities(vectors, predicted_vectors, reverse=False):\n",
    "    data_size = len(title_plot_df)\n",
    "    cosine_similarities = []\n",
    "    for i in range(data_size):\n",
    "        cosine_sim_val = (1 - cosine(vectors[i], predicted_vectors[i]))\n",
    "        cosine_similarities.append((i, cosine_sim_val))\n",
    "\n",
    "    return sorted(cosine_similarities, key=key_consine_similarity, reverse=reverse)\n",
    "\n",
    "def display_top_n(sorted_cosine_similarities, n=5):\n",
    "    for i in range(n):\n",
    "        index, consine_sim_val = sorted_cosine_similarities[i]\n",
    "        print('Movie Title: ', title_plot_df.iloc[index, 0])  \n",
    "        print('Cosine Sim Val :', consine_sim_val)\n",
    "        print('---------------------------------')"
   ]
  },
  {
   "cell_type": "code",
   "execution_count": 233,
   "metadata": {},
   "outputs": [
    {
     "name": "stdout",
     "output_type": "stream",
     "text": [
      "Top 5 unique movies\n",
      "Movie Title:  Himalaya Ki God Mein\n",
      "Cosine Sim Val : -0.22424216404760156\n",
      "---------------------------------\n",
      "Movie Title:  A Wedding Invitation\n",
      "Cosine Sim Val : -0.20685603000646258\n",
      "---------------------------------\n",
      "Movie Title:  The Stooge\n",
      "Cosine Sim Val : -0.20258231586776865\n",
      "---------------------------------\n",
      "Movie Title:  Sink the Bismarck!\n",
      "Cosine Sim Val : -0.20029448919491943\n",
      "---------------------------------\n",
      "Movie Title:  Murder at the Vanities\n",
      "Cosine Sim Val : -0.19936944126092238\n",
      "---------------------------------\n"
     ]
    }
   ],
   "source": [
    "print('Top 5 unique movies')\n",
    "sorted_cosine_similarities = get_computed_similarities(vectors=doc2vec_vectors, predicted_vectors=predicted_vectors)\n",
    "display_top_n(sorted_cosine_similarities=sorted_cosine_similarities)"
   ]
  },
  {
   "cell_type": "code",
   "execution_count": 234,
   "metadata": {},
   "outputs": [],
   "source": [
    "most_unique_movie_index, cosine_sim_val = sorted_cosine_similarities[0]\n",
    "most_unique_movie_plot = title_plot_df.iloc[most_unique_movie_index, 1]\n",
    "most_unique_movie_words_counter = Counter(preprocess_string(most_unique_movie_plot))"
   ]
  },
  {
   "cell_type": "code",
   "execution_count": 235,
   "metadata": {},
   "outputs": [],
   "source": [
    "uncommon_word_count_items = [word for word in islice(all_word_counts, 300000)]\n",
    "all_movies_uncommon_word_counter = Counter(dict(uncommon_word_count_items))\n",
    "common_word_counter = Counter(aggregate_counter.most_common(1000))"
   ]
  },
  {
   "cell_type": "code",
   "execution_count": 236,
   "metadata": {},
   "outputs": [],
   "source": [
    "intersected_uncommon_word_counter = all_movies_uncommon_word_counter & most_unique_movie_words_counter\n",
    "intersected_uncommon_words = [word[0] for word in intersected_uncommon_word_counter.items()]\n",
    "intersected_uncommon_word_counts = [word[1] for word in intersected_uncommon_word_counter.items()]"
   ]
  },
  {
   "cell_type": "code",
   "execution_count": 237,
   "metadata": {},
   "outputs": [
    {
     "data": {
      "text/plain": [
       "Counter()"
      ]
     },
     "execution_count": 237,
     "metadata": {},
     "output_type": "execute_result"
    }
   ],
   "source": [
    "intersected_common_word_counter = common_word_counter & most_unique_movie_words_counter\n",
    "intersected_common_words = [word[0] for word in intersected_common_word_counter.items()]\n",
    "intersected_common_word_counts = [word[1] for word in intersected_common_word_counter.items()]\n",
    "intersected_common_word_counter"
   ]
  },
  {
   "cell_type": "code",
   "execution_count": 238,
   "metadata": {},
   "outputs": [
    {
     "data": {
      "image/png": "[encoded data removed]",
      "text/plain": [
       "<Figure size 1296x432 with 1 Axes>"
      ]
     },
     "metadata": {
      "needs_background": "light"
     },
     "output_type": "display_data"
    }
   ],
   "source": [
    "barplot(words=intersected_uncommon_words, words_counts=intersected_uncommon_word_counts,\n",
    "        title='Few Common words between most unique movie & all uncommon words in all movies')"
   ]
  },
  {
   "cell_type": "code",
   "execution_count": null,
   "metadata": {},
   "outputs": [],
   "source": []
  }
 ],
 "metadata": {
  "kernelspec": {
   "display_name": "Python 3",
   "language": "python",
   "name": "python3"
  },
  "language_info": {
   "codemirror_mode": {
    "name": "ipython",
    "version": 3
   },
   "file_extension": ".py",
   "mimetype": "text/x-python",
   "name": "python",
   "nbconvert_exporter": "python",
   "pygments_lexer": "ipython3",
   "version": "3.7.2"
  }
 },
 "nbformat": 4,
 "nbformat_minor": 2
}
